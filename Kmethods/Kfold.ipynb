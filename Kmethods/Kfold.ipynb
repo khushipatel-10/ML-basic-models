{
 "cells": [
  {
   "cell_type": "code",
   "execution_count": 7,
   "id": "c52f292e-be50-4d29-a723-b284567032ad",
   "metadata": {},
   "outputs": [],
   "source": [
    "from sklearn.linear_model import LogisticRegression\n",
    "from sklearn.svm import SVC\n",
    "from sklearn.ensemble import RandomForestClassifier\n",
    "import numpy as np\n",
    "from sklearn.datasets import load_digits\n",
    "\n",
    "digits=load_digits()"
   ]
  },
  {
   "cell_type": "code",
   "execution_count": 9,
   "id": "152373d4-97af-4b78-add1-55d318f311fe",
   "metadata": {},
   "outputs": [],
   "source": [
    "from sklearn.model_selection import train_test_split\n",
    "xa,xb,ya,yb = train_test_split(digits.data, digits.target, test_size=0.2, random_state=1)"
   ]
  },
  {
   "cell_type": "code",
   "execution_count": 11,
   "id": "3c3760a4-01bc-4460-b986-08d7cbafb98c",
   "metadata": {},
   "outputs": [],
   "source": [
    "%matplotlib inline\n",
    "import matplotlib.pyplot as plt"
   ]
  },
  {
   "cell_type": "code",
   "execution_count": 15,
   "id": "e00f34d0-24e9-4a28-a997-d0bef2fadd3e",
   "metadata": {},
   "outputs": [
    {
     "data": {
      "text/plain": [
       "0.9722222222222222"
      ]
     },
     "execution_count": 15,
     "metadata": {},
     "output_type": "execute_result"
    }
   ],
   "source": [
    "l = LogisticRegression(max_iter=10000)\n",
    "l.fit(xa,ya)\n",
    "l.score(xb,yb)"
   ]
  },
  {
   "cell_type": "code",
   "execution_count": 17,
   "id": "2e7e6c13-bdc8-42a5-add6-f51a50f2dcd2",
   "metadata": {},
   "outputs": [
    {
     "data": {
      "text/plain": [
       "0.9916666666666667"
      ]
     },
     "execution_count": 17,
     "metadata": {},
     "output_type": "execute_result"
    }
   ],
   "source": [
    "svm = SVC()\n",
    "svm.fit(xa,ya)\n",
    "svm.score(xb,yb)"
   ]
  },
  {
   "cell_type": "code",
   "execution_count": 49,
   "id": "d080f59e-953b-4e89-a2d8-bc6c600b2395",
   "metadata": {},
   "outputs": [],
   "source": [
    "# yp = svm.predict(xb)\n",
    "# # Scatter plot for the actual labels `yb`\n",
    "# plt.scatter(range(len(yb)), yb, color=\"blue\", label=\"Actual Labels (yb)\", alpha=0.4)\n",
    "\n",
    "# # Scatter plot for the predicted labels `yp`\n",
    "# plt.scatter(range(len(yp)), yp, color=\"red\", label=\"Predicted Labels (yp)\", alpha=0.4)\n",
    "\n",
    "# # Adding labels, legend, and title\n",
    "# plt.xlabel(\"Data Points\")\n",
    "# plt.ylabel(\"Labels\")\n",
    "# plt.title(\"Actual vs Predicted Labels\")\n",
    "# plt.legend()  # Shows the color-coded legend"
   ]
  },
  {
   "cell_type": "code",
   "execution_count": 112,
   "id": "4bc2a375-af93-40b6-bc61-a7b4c2402f2e",
   "metadata": {},
   "outputs": [
    {
     "data": {
      "text/plain": [
       "KFold(n_splits=5, random_state=None, shuffle=False)"
      ]
     },
     "execution_count": 112,
     "metadata": {},
     "output_type": "execute_result"
    }
   ],
   "source": [
    "from sklearn.model_selection import KFold\n",
    "kf=KFold(n_splits=5)\n",
    "kf"
   ]
  },
  {
   "cell_type": "code",
   "execution_count": 116,
   "id": "b31c0b64-b648-4e2a-9388-27ff6b8b2f57",
   "metadata": {},
   "outputs": [
    {
     "name": "stdout",
     "output_type": "stream",
     "text": [
      "[2 3 4 5 6 7 8 9] [0 1]\n",
      "[0 1 4 5 6 7 8 9] [2 3]\n",
      "[0 1 2 3 6 7 8 9] [4 5]\n",
      "[0 1 2 3 4 5 8 9] [6 7]\n",
      "[0 1 2 3 4 5 6 7] [8 9]\n"
     ]
    }
   ],
   "source": [
    "for train_index, test_index in kf.split([1,2,3,4,5,6,7,8,9,10]):\n",
    "    print(train_index, test_index)"
   ]
  },
  {
   "cell_type": "code",
   "execution_count": 148,
   "id": "d872531f-d9e9-4ac3-a98f-d754632106a9",
   "metadata": {},
   "outputs": [],
   "source": [
    "def getScore (model, xa,xb,ya,yb):\n",
    "    model.fit(xa,ya)\n",
    "    return model.score(xb,yb)\n",
    "# getScore(LogisticRegression(max_iter=10000), xa,xb,ya,yb)"
   ]
  },
  {
   "cell_type": "code",
   "execution_count": 152,
   "id": "085fdf21-d767-4f6b-8523-e19a2a301e1c",
   "metadata": {},
   "outputs": [],
   "source": [
    "from sklearn.model_selection import StratifiedKFold\n",
    "folds=StratifiedKFold(n_splits=2)"
   ]
  },
  {
   "cell_type": "code",
   "execution_count": 155,
   "id": "cb55d137-b451-4c5e-9131-551c6e79e247",
   "metadata": {},
   "outputs": [],
   "source": [
    "scoreL=[]\n",
    "scoreS=[]\n",
    "scoreR=[]\n",
    "for train_i, test_i in kf.split(digits.data):\n",
    "    xa,xb,ya,yb=digits.data[train_i], digits.data[test_i], digits.target[train_i],digits.target[test_i]\n",
    "    scoreL.append(getScore(LogisticRegression(max_iter=10000),xa,xb,ya,yb))\n",
    "    scoreS.append(getScore(SVC(),xa,xb,ya,yb))\n",
    "    scoreR.append(getScore(RandomForestClassifier(),xa,xb,ya,yb))"
   ]
  },
  {
   "cell_type": "code",
   "execution_count": 156,
   "id": "da35f680-4c90-42a2-88c7-ec4a4f35ba6c",
   "metadata": {},
   "outputs": [
    {
     "data": {
      "text/plain": [
       "[0.9305555555555556,\n",
       " 0.875,\n",
       " 0.9415041782729805,\n",
       " 0.9387186629526463,\n",
       " 0.9080779944289693]"
      ]
     },
     "execution_count": 156,
     "metadata": {},
     "output_type": "execute_result"
    }
   ],
   "source": [
    "scoreL"
   ]
  },
  {
   "cell_type": "code",
   "execution_count": 159,
   "id": "d0061458-1002-40c0-9451-7f9d227faf8f",
   "metadata": {},
   "outputs": [
    {
     "data": {
      "text/plain": [
       "[0.9694444444444444,\n",
       " 0.9472222222222222,\n",
       " 0.9832869080779945,\n",
       " 0.9888579387186629,\n",
       " 0.9415041782729805]"
      ]
     },
     "execution_count": 159,
     "metadata": {},
     "output_type": "execute_result"
    }
   ],
   "source": [
    "scoreS"
   ]
  },
  {
   "cell_type": "code",
   "execution_count": 161,
   "id": "0279bc80-9e8e-41c5-9eac-9c6e2cedf6fb",
   "metadata": {},
   "outputs": [
    {
     "data": {
      "text/plain": [
       "[0.9333333333333333,\n",
       " 0.9194444444444444,\n",
       " 0.9554317548746518,\n",
       " 0.9610027855153204,\n",
       " 0.924791086350975]"
      ]
     },
     "execution_count": 161,
     "metadata": {},
     "output_type": "execute_result"
    }
   ],
   "source": [
    "scoreR"
   ]
  },
  {
   "cell_type": "code",
   "execution_count": 165,
   "id": "37e8d8da-1e09-4e0e-84a2-ee2155e2f04c",
   "metadata": {},
   "outputs": [
    {
     "data": {
      "text/plain": [
       "array([0.92222222, 0.87222222, 0.94150418, 0.94150418, 0.89693593])"
      ]
     },
     "execution_count": 165,
     "metadata": {},
     "output_type": "execute_result"
    }
   ],
   "source": [
    "from sklearn.model_selection import cross_val_score\n",
    "cross_val_score(LogisticRegression(max_iter=1000), digits.data, digits.target)"
   ]
  },
  {
   "cell_type": "code",
   "execution_count": 169,
   "id": "9fe181e4-d9d8-4901-8d7c-f69f0d6eb7e0",
   "metadata": {},
   "outputs": [
    {
     "data": {
      "text/plain": [
       "array([0.96111111, 0.94444444, 0.98328691, 0.98885794, 0.93871866])"
      ]
     },
     "execution_count": 169,
     "metadata": {},
     "output_type": "execute_result"
    }
   ],
   "source": [
    "cross_val_score(SVC(), digits.data, digits.target)"
   ]
  },
  {
   "cell_type": "code",
   "execution_count": 173,
   "id": "8ea1a27e-9f0e-4c99-bd6c-351eb36784d1",
   "metadata": {},
   "outputs": [
    {
     "data": {
      "text/plain": [
       "array([0.92777778, 0.90833333, 0.96100279, 0.97214485, 0.93314763])"
      ]
     },
     "execution_count": 173,
     "metadata": {},
     "output_type": "execute_result"
    }
   ],
   "source": [
    "cross_val_score(RandomForestClassifier(), digits.data, digits.target)"
   ]
  },
  {
   "cell_type": "code",
   "execution_count": 181,
   "id": "40382587-455e-485e-a1c0-7aad9ec7926a",
   "metadata": {},
   "outputs": [
    {
     "data": {
      "text/plain": [
       "array([0.91388889, 0.86388889, 0.9275766 , 0.93314763, 0.89415042])"
      ]
     },
     "execution_count": 181,
     "metadata": {},
     "output_type": "execute_result"
    }
   ],
   "source": [
    "#PARAMETER TUNING\n",
    "cross_val_score(RandomForestClassifier(n_estimators=10), digits.data, digits.target)"
   ]
  },
  {
   "cell_type": "code",
   "execution_count": 179,
   "id": "b804baf7-9554-445a-b576-fc5f8092e2e2",
   "metadata": {},
   "outputs": [
    {
     "data": {
      "text/plain": [
       "array([0.94166667, 0.90555556, 0.95543175, 0.96100279, 0.9275766 ])"
      ]
     },
     "execution_count": 179,
     "metadata": {},
     "output_type": "execute_result"
    }
   ],
   "source": [
    "cross_val_score(RandomForestClassifier(n_estimators=50), digits.data, digits.target)"
   ]
  }
 ],
 "metadata": {
  "kernelspec": {
   "display_name": "Python 3 (ipykernel)",
   "language": "python",
   "name": "python3"
  },
  "language_info": {
   "codemirror_mode": {
    "name": "ipython",
    "version": 3
   },
   "file_extension": ".py",
   "mimetype": "text/x-python",
   "name": "python",
   "nbconvert_exporter": "python",
   "pygments_lexer": "ipython3",
   "version": "3.12.4"
  }
 },
 "nbformat": 4,
 "nbformat_minor": 5
}
